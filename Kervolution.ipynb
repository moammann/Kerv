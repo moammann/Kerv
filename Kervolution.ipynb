{
  "nbformat": 4,
  "nbformat_minor": 0,
  "metadata": {
    "colab": {
      "name": "Kervolution.ipynb",
      "provenance": [],
      "collapsed_sections": [
        "RcVEfVTeAueE",
        "djlHOzVvv7Uu",
        "rAn6EJ2HwA9e",
        "oaYwcSH1wI5n",
        "SLtgPoy54ZNh",
        "datF7WqsEcM1"
      ],
      "toc_visible": true,
      "include_colab_link": true
    },
    "kernelspec": {
      "name": "python3",
      "display_name": "Python 3"
    },
    "accelerator": "GPU"
  },
  "cells": [
    {
      "cell_type": "markdown",
      "metadata": {
        "id": "view-in-github",
        "colab_type": "text"
      },
      "source": [
        "<a href=\"https://colab.research.google.com/github/moammann/Kerv/blob/master/Kervolution.ipynb\" target=\"_parent\"><img src=\"https://colab.research.google.com/assets/colab-badge.svg\" alt=\"Open In Colab\"/></a>"
      ]
    },
    {
      "cell_type": "markdown",
      "metadata": {
        "id": "djlHOzVvv7Uu",
        "colab_type": "text"
      },
      "source": [
        "# Data Loading"
      ]
    },
    {
      "cell_type": "markdown",
      "metadata": {
        "id": "oaYwcSH1wI5n",
        "colab_type": "text"
      },
      "source": [
        "## From Google Drive"
      ]
    },
    {
      "cell_type": "code",
      "metadata": {
        "id": "5dfKYRR-vgnp",
        "colab_type": "code",
        "outputId": "2c5f7f77-dd24-4746-dd5d-ac3a21175ab6",
        "colab": {
          "base_uri": "https://localhost:8080/",
          "height": 54
        }
      },
      "source": [
        "from google.colab import drive\n",
        "drive.mount('/content/drive')"
      ],
      "execution_count": 4,
      "outputs": [
        {
          "output_type": "stream",
          "text": [
            "Drive already mounted at /content/drive; to attempt to forcibly remount, call drive.mount(\"/content/drive\", force_remount=True).\n"
          ],
          "name": "stdout"
        }
      ]
    },
    {
      "cell_type": "markdown",
      "metadata": {
        "id": "MmZXDXgNwMrT",
        "colab_type": "text"
      },
      "source": [
        "# Kervolution\n"
      ]
    },
    {
      "cell_type": "markdown",
      "metadata": {
        "id": "tyBfvzcdFhj5",
        "colab_type": "text"
      },
      "source": [
        "## Import needed packages"
      ]
    },
    {
      "cell_type": "code",
      "metadata": {
        "id": "wODaFamFwR9B",
        "colab_type": "code",
        "colab": {}
      },
      "source": [
        "!python '/content/drive/My Drive/Kerv/setup.py' install\n",
        "!pip install gast==0.2.2"
      ],
      "execution_count": 0,
      "outputs": []
    },
    {
      "cell_type": "markdown",
      "metadata": {
        "id": "OdUUNVoaZyNs",
        "colab_type": "text"
      },
      "source": [
        "Restart Runtime and load Packages"
      ]
    },
    {
      "cell_type": "code",
      "metadata": {
        "id": "A-WTYi7FaD4Y",
        "colab_type": "code",
        "colab": {}
      },
      "source": [
        "import numpy as np\n",
        "import matplotlib.pyplot as plt\n",
        "import os\n",
        "import sys"
      ],
      "execution_count": 0,
      "outputs": []
    },
    {
      "cell_type": "code",
      "metadata": {
        "id": "UtA-wQjQZe5E",
        "colab_type": "code",
        "colab": {}
      },
      "source": [
        "sys.path.insert(1, \"/content/drive/My Drive/Kerv\")\n",
        "from tf_keras_kervolution_2d import KernelConv1D, KernelConv2D, PolynomialKernel"
      ],
      "execution_count": 0,
      "outputs": []
    },
    {
      "cell_type": "markdown",
      "metadata": {
        "id": "SLtgPoy54ZNh",
        "colab_type": "text"
      },
      "source": [
        "## Tensorboard"
      ]
    },
    {
      "cell_type": "code",
      "metadata": {
        "id": "2_V4kz224CWS",
        "colab_type": "code",
        "outputId": "a9fb2d57-6ccb-406f-b468-40c47828fb30",
        "colab": {
          "base_uri": "https://localhost:8080/",
          "height": 68
        }
      },
      "source": [
        "from tensorboardcolab import TensorBoardColab, TensorBoardColabCallback\n",
        "tbc=TensorBoardColab()"
      ],
      "execution_count": 5,
      "outputs": [
        {
          "output_type": "stream",
          "text": [
            "Wait for 8 seconds...\n",
            "TensorBoard link:\n",
            "https://873e73ec.ngrok.io\n"
          ],
          "name": "stdout"
        }
      ]
    },
    {
      "cell_type": "code",
      "metadata": {
        "id": "BuSkIhKC6rfs",
        "colab_type": "code",
        "colab": {}
      },
      "source": [
        "tensboar = TensorBoardColabCallback(tbc,write_graph=True,write_images=True)"
      ],
      "execution_count": 0,
      "outputs": []
    },
    {
      "cell_type": "markdown",
      "metadata": {
        "id": "PovvD-mqbQ-6",
        "colab_type": "text"
      },
      "source": [
        "## Load Data"
      ]
    },
    {
      "cell_type": "code",
      "metadata": {
        "id": "htzdh3QqbTgy",
        "colab_type": "code",
        "colab": {
          "base_uri": "https://localhost:8080/",
          "height": 68
        },
        "outputId": "61d1f3b0-4832-4bb2-ea4d-70e9d00e714d"
      },
      "source": [
        "import keras\n",
        "from keras.datasets import mnist\n",
        "from keras.models import Sequential\n",
        "from keras.layers import Dense, Dropout, Flatten\n",
        "from keras.layers import Conv2D, AveragePooling2D\n",
        "from keras import backend as K\n",
        "from keras.optimizers import SGD\n",
        "\n",
        "batch_size = 50\n",
        "num_classes = 10\n",
        "epochs = 20\n",
        "\n",
        "# input image dimensions\n",
        "img_rows, img_cols = 28, 28\n",
        "\n",
        "# the data, split between train and test sets\n",
        "(x_train, y_train), (x_test, y_test) = mnist.load_data()\n",
        "\n",
        "if K.image_data_format() == 'channels_first':\n",
        "    x_train = x_train.reshape(x_train.shape[0], 1, img_rows, img_cols)\n",
        "    x_test = x_test.reshape(x_test.shape[0], 1, img_rows, img_cols)\n",
        "    input_shape = (1, img_rows, img_cols)\n",
        "else:\n",
        "    x_train = x_train.reshape(x_train.shape[0], img_rows, img_cols, 1)\n",
        "    x_test = x_test.reshape(x_test.shape[0], img_rows, img_cols, 1)\n",
        "    input_shape = (img_rows, img_cols, 1)\n",
        "\n",
        "x_train = x_train.astype('float32')\n",
        "x_test = x_test.astype('float32')\n",
        "x_train /= 255\n",
        "x_test /= 255\n",
        "print('x_train shape:', x_train.shape)\n",
        "print(x_train.shape[0], 'train samples')\n",
        "print(x_test.shape[0], 'test samples')\n",
        "\n",
        "# convert class vectors to binary class matrices\n",
        "y_train = keras.utils.to_categorical(y_train, num_classes)\n",
        "y_test = keras.utils.to_categorical(y_test, num_classes)"
      ],
      "execution_count": 25,
      "outputs": [
        {
          "output_type": "stream",
          "text": [
            "x_train shape: (60000, 28, 28, 1)\n",
            "60000 train samples\n",
            "10000 test samples\n"
          ],
          "name": "stdout"
        }
      ]
    },
    {
      "cell_type": "markdown",
      "metadata": {
        "id": "datF7WqsEcM1",
        "colab_type": "text"
      },
      "source": [
        "## Mnist, CNN, LeNet 5"
      ]
    },
    {
      "cell_type": "code",
      "metadata": {
        "id": "H3Z6y5aKRAEt",
        "colab_type": "code",
        "outputId": "85428fb0-b929-4eef-a899-87ed40513837",
        "colab": {
          "base_uri": "https://localhost:8080/",
          "height": 1000
        }
      },
      "source": [
        "model = keras.Sequential()\n",
        "\n",
        "model.add(Conv2D(filters=6, kernel_size=(3, 3), activation='relu', input_shape=(28,28,1),name='Conv1'))\n",
        "model.add(AveragePooling2D())\n",
        "\n",
        "model.add(Conv2D(filters=16, kernel_size=(3, 3), activation='relu',name='Conv2'))\n",
        "model.add(AveragePooling2D())\n",
        "\n",
        "model.add(Flatten())\n",
        "\n",
        "model.add(Dense(units=120, activation='relu'))\n",
        "\n",
        "model.add(Dense(units=84, activation='relu'))\n",
        "\n",
        "model.add(Dense(units=10, activation = 'softmax'))\n",
        "\n",
        "model.compile(loss='categorical_crossentropy',\n",
        "              optimizer=SGD(lr=0.003, momentum=0.9, nesterov=False),\n",
        "              metrics=['accuracy'])\n",
        "\n",
        "model.summary()\n",
        "\n",
        "model.fit(x_train, y_train,\n",
        "          batch_size=batch_size,\n",
        "          epochs=epochs,\n",
        "          verbose=1,\n",
        "          validation_data=(x_test, y_test))\n",
        "score = model.evaluate(x_test, y_test, verbose=0)\n",
        "print('Test loss:', score[0])\n",
        "print('Test accuracy:', score[1])"
      ],
      "execution_count": 9,
      "outputs": [
        {
          "output_type": "stream",
          "text": [
            "Model: \"sequential_3\"\n",
            "_________________________________________________________________\n",
            "Layer (type)                 Output Shape              Param #   \n",
            "=================================================================\n",
            "Conv1 (Conv2D)               (None, 26, 26, 6)         60        \n",
            "_________________________________________________________________\n",
            "average_pooling2d_5 (Average (None, 13, 13, 6)         0         \n",
            "_________________________________________________________________\n",
            "Conv2 (Conv2D)               (None, 11, 11, 16)        880       \n",
            "_________________________________________________________________\n",
            "average_pooling2d_6 (Average (None, 5, 5, 16)          0         \n",
            "_________________________________________________________________\n",
            "flatten_3 (Flatten)          (None, 400)               0         \n",
            "_________________________________________________________________\n",
            "dense_7 (Dense)              (None, 120)               48120     \n",
            "_________________________________________________________________\n",
            "dense_8 (Dense)              (None, 84)                10164     \n",
            "_________________________________________________________________\n",
            "dense_9 (Dense)              (None, 10)                850       \n",
            "=================================================================\n",
            "Total params: 60,074\n",
            "Trainable params: 60,074\n",
            "Non-trainable params: 0\n",
            "_________________________________________________________________\n",
            "Train on 60000 samples, validate on 10000 samples\n",
            "Epoch 1/20\n",
            "60000/60000 [==============================] - 7s 124us/step - loss: 0.5412 - acc: 0.8367 - val_loss: 0.2135 - val_acc: 0.9347\n",
            "Epoch 2/20\n",
            "60000/60000 [==============================] - 7s 121us/step - loss: 0.1818 - acc: 0.9437 - val_loss: 0.1508 - val_acc: 0.9547\n",
            "Epoch 3/20\n",
            "60000/60000 [==============================] - 7s 120us/step - loss: 0.1326 - acc: 0.9588 - val_loss: 0.1120 - val_acc: 0.9645\n",
            "Epoch 4/20\n",
            "60000/60000 [==============================] - 7s 121us/step - loss: 0.1037 - acc: 0.9684 - val_loss: 0.0963 - val_acc: 0.9704\n",
            "Epoch 5/20\n",
            "60000/60000 [==============================] - 7s 119us/step - loss: 0.0875 - acc: 0.9732 - val_loss: 0.0883 - val_acc: 0.9728\n",
            "Epoch 6/20\n",
            "60000/60000 [==============================] - 7s 120us/step - loss: 0.0750 - acc: 0.9769 - val_loss: 0.0755 - val_acc: 0.9765\n",
            "Epoch 7/20\n",
            "60000/60000 [==============================] - 7s 120us/step - loss: 0.0663 - acc: 0.9794 - val_loss: 0.0704 - val_acc: 0.9779\n",
            "Epoch 8/20\n",
            "60000/60000 [==============================] - 7s 120us/step - loss: 0.0577 - acc: 0.9821 - val_loss: 0.0683 - val_acc: 0.9772\n",
            "Epoch 9/20\n",
            "60000/60000 [==============================] - 7s 119us/step - loss: 0.0536 - acc: 0.9829 - val_loss: 0.0616 - val_acc: 0.9796\n",
            "Epoch 10/20\n",
            "60000/60000 [==============================] - 7s 119us/step - loss: 0.0484 - acc: 0.9849 - val_loss: 0.0623 - val_acc: 0.9804\n",
            "Epoch 11/20\n",
            "60000/60000 [==============================] - 7s 119us/step - loss: 0.0435 - acc: 0.9861 - val_loss: 0.0597 - val_acc: 0.9814\n",
            "Epoch 12/20\n",
            "60000/60000 [==============================] - 7s 121us/step - loss: 0.0405 - acc: 0.9872 - val_loss: 0.0566 - val_acc: 0.9832\n",
            "Epoch 13/20\n",
            "60000/60000 [==============================] - 7s 118us/step - loss: 0.0364 - acc: 0.9883 - val_loss: 0.0575 - val_acc: 0.9827\n",
            "Epoch 14/20\n",
            "60000/60000 [==============================] - 7s 119us/step - loss: 0.0343 - acc: 0.9889 - val_loss: 0.0536 - val_acc: 0.9841\n",
            "Epoch 15/20\n",
            "60000/60000 [==============================] - 7s 120us/step - loss: 0.0318 - acc: 0.9895 - val_loss: 0.0527 - val_acc: 0.9831\n",
            "Epoch 16/20\n",
            "60000/60000 [==============================] - 7s 118us/step - loss: 0.0296 - acc: 0.9906 - val_loss: 0.0595 - val_acc: 0.9826\n",
            "Epoch 17/20\n",
            "60000/60000 [==============================] - 7s 125us/step - loss: 0.0272 - acc: 0.9910 - val_loss: 0.0484 - val_acc: 0.9853\n",
            "Epoch 18/20\n",
            "60000/60000 [==============================] - 7s 123us/step - loss: 0.0247 - acc: 0.9923 - val_loss: 0.0522 - val_acc: 0.9843\n",
            "Epoch 19/20\n",
            "60000/60000 [==============================] - 7s 119us/step - loss: 0.0240 - acc: 0.9921 - val_loss: 0.0601 - val_acc: 0.9817\n",
            "Epoch 20/20\n",
            "60000/60000 [==============================] - 7s 119us/step - loss: 0.0225 - acc: 0.9928 - val_loss: 0.0474 - val_acc: 0.9852\n",
            "Test loss: 0.04736364564303949\n",
            "Test accuracy: 0.9852\n"
          ],
          "name": "stdout"
        }
      ]
    },
    {
      "cell_type": "code",
      "metadata": {
        "id": "s4Kiclk_hlBu",
        "colab_type": "code",
        "colab": {}
      },
      "source": [
        "for layer in model.layers:\n",
        "  if 'Conv1' in layer.name:\n",
        "    filters1, biases1 = layer.get_weights()\n",
        "  if 'Conv2' in layer.name:\n",
        "    filters2, biases2 = layer.get_weights()\n",
        "filters1 = np.squeeze(filters1)\n",
        "filters2 = np.squeeze(filters2)"
      ],
      "execution_count": 0,
      "outputs": []
    },
    {
      "cell_type": "code",
      "metadata": {
        "id": "BrL5yXDc7mw8",
        "colab_type": "code",
        "outputId": "6c6e18b6-949d-43b6-dbfd-3192ca25d5d0",
        "colab": {
          "base_uri": "https://localhost:8080/",
          "height": 315
        }
      },
      "source": [
        "fig, axes = plt.subplots(nrows=3, ncols=2)\n",
        "plt.xticks([])\n",
        "plt.yticks([])\n",
        "i=0\n",
        "\n",
        "for ax in axes.flat:\n",
        "    im = ax.imshow(filters1[:,:,i], cmap='gray')\n",
        "    i+=1\n",
        "\n",
        "fig.colorbar(im, ax=axes.ravel().tolist())\n",
        "plt.setp(plt.gcf().get_axes(), xticks=[], yticks=[]);\n",
        "\n",
        "fig.suptitle('Weights of first CNN layer')\n",
        "plt.savefig('mnist_comp_CNN_standard.pdf')\n",
        "\n",
        "plt.show()"
      ],
      "execution_count": 12,
      "outputs": [
        {
          "output_type": "stream",
          "text": [
            "/usr/local/lib/python3.6/dist-packages/matplotlib/colorbar.py:214: UserWarning: Use the colorbar set_ticks() method instead.\n",
            "  warnings.warn(\"Use the colorbar set_ticks() method instead.\")\n"
          ],
          "name": "stderr"
        },
        {
          "output_type": "display_data",
          "data": {
            "image/png": "[encoded data removed]",
            "text/plain": [
              "<Figure size 432x288 with 7 Axes>"
            ]
          },
          "metadata": {
            "tags": []
          }
        }
      ]
    },
    {
      "cell_type": "markdown",
      "metadata": {
        "colab_type": "text",
        "id": "bBjGHFXXalos"
      },
      "source": [
        "## Mnist, CNN, LeNet 5, w/o Pooling, stride 2"
      ]
    },
    {
      "cell_type": "code",
      "metadata": {
        "id": "icuQlrTWassy",
        "colab_type": "code",
        "colab": {
          "base_uri": "https://localhost:8080/",
          "height": 1000
        },
        "outputId": "80da305b-3fb4-4ead-8089-4004170efd4a"
      },
      "source": [
        "model = keras.Sequential()\n",
        "\n",
        "model.add(Conv2D(filters=6, kernel_size=(3, 3), strides = 2, activation='relu', input_shape=(28,28,1),name='Conv1'))\n",
        "# model.add(AveragePooling2D())\n",
        "\n",
        "model.add(Conv2D(filters=16, kernel_size=(3, 3), strides = 2, activation='relu',name='Conv2'))\n",
        "# model.add(AveragePooling2D())\n",
        "\n",
        "model.add(Flatten())\n",
        "\n",
        "model.add(Dense(units=120, activation='relu'))\n",
        "\n",
        "model.add(Dense(units=84, activation='relu'))\n",
        "\n",
        "model.add(Dense(units=10, activation = 'softmax'))\n",
        "\n",
        "model.compile(loss='categorical_crossentropy',\n",
        "              optimizer=SGD(lr=0.003, momentum=0.9, nesterov=False),\n",
        "              metrics=['accuracy'])\n",
        "\n",
        "model.summary()\n",
        "\n",
        "model.fit(x_train, y_train,\n",
        "          batch_size=batch_size,\n",
        "          epochs=epochs,\n",
        "          verbose=1,\n",
        "          validation_data=(x_test, y_test),\n",
        "          callbacks=[tensboar])\n",
        "score = model.evaluate(x_test, y_test, verbose=0)\n",
        "print('Test loss:', score[0])\n",
        "print('Test accuracy:', score[1])"
      ],
      "execution_count": 28,
      "outputs": [
        {
          "output_type": "stream",
          "text": [
            "Model: \"sequential_5\"\n",
            "_________________________________________________________________\n",
            "Layer (type)                 Output Shape              Param #   \n",
            "=================================================================\n",
            "Conv1 (Conv2D)               (None, 13, 13, 6)         60        \n",
            "_________________________________________________________________\n",
            "Conv2 (Conv2D)               (None, 6, 6, 16)          880       \n",
            "_________________________________________________________________\n",
            "flatten_5 (Flatten)          (None, 576)               0         \n",
            "_________________________________________________________________\n",
            "dense_13 (Dense)             (None, 120)               69240     \n",
            "_________________________________________________________________\n",
            "dense_14 (Dense)             (None, 84)                10164     \n",
            "_________________________________________________________________\n",
            "dense_15 (Dense)             (None, 10)                850       \n",
            "=================================================================\n",
            "Total params: 81,194\n",
            "Trainable params: 81,194\n",
            "Non-trainable params: 0\n",
            "_________________________________________________________________\n",
            "Train on 60000 samples, validate on 10000 samples\n",
            "Epoch 1/20\n",
            "60000/60000 [==============================] - 7s 117us/step - loss: 0.4323 - acc: 0.8709 - val_loss: 0.1625 - val_acc: 0.9514\n",
            "Epoch 2/20\n",
            "60000/60000 [==============================] - 7s 114us/step - loss: 0.1527 - acc: 0.9536 - val_loss: 0.1386 - val_acc: 0.9563\n",
            "Epoch 3/20\n",
            "60000/60000 [==============================] - 7s 113us/step - loss: 0.1130 - acc: 0.9659 - val_loss: 0.0979 - val_acc: 0.9697\n",
            "Epoch 4/20\n",
            "60000/60000 [==============================] - 7s 114us/step - loss: 0.0922 - acc: 0.9722 - val_loss: 0.0940 - val_acc: 0.9704\n",
            "Epoch 5/20\n",
            "60000/60000 [==============================] - 7s 114us/step - loss: 0.0762 - acc: 0.9766 - val_loss: 0.0826 - val_acc: 0.9712\n",
            "Epoch 6/20\n",
            "60000/60000 [==============================] - 7s 112us/step - loss: 0.0667 - acc: 0.9790 - val_loss: 0.0782 - val_acc: 0.9743\n",
            "Epoch 7/20\n",
            "60000/60000 [==============================] - 7s 113us/step - loss: 0.0587 - acc: 0.9818 - val_loss: 0.0768 - val_acc: 0.9769\n",
            "Epoch 8/20\n",
            "60000/60000 [==============================] - 7s 114us/step - loss: 0.0529 - acc: 0.9833 - val_loss: 0.0708 - val_acc: 0.9768\n",
            "Epoch 9/20\n",
            "60000/60000 [==============================] - 7s 113us/step - loss: 0.0457 - acc: 0.9859 - val_loss: 0.0642 - val_acc: 0.9803\n",
            "Epoch 10/20\n",
            "60000/60000 [==============================] - 7s 113us/step - loss: 0.0412 - acc: 0.9867 - val_loss: 0.0697 - val_acc: 0.9787\n",
            "Epoch 11/20\n",
            "60000/60000 [==============================] - 7s 113us/step - loss: 0.0370 - acc: 0.9879 - val_loss: 0.0677 - val_acc: 0.9797\n",
            "Epoch 12/20\n",
            "60000/60000 [==============================] - 7s 111us/step - loss: 0.0328 - acc: 0.9894 - val_loss: 0.0753 - val_acc: 0.9780\n",
            "Epoch 13/20\n",
            "60000/60000 [==============================] - 7s 113us/step - loss: 0.0292 - acc: 0.9909 - val_loss: 0.0620 - val_acc: 0.9807\n",
            "Epoch 14/20\n",
            "60000/60000 [==============================] - 7s 113us/step - loss: 0.0262 - acc: 0.9917 - val_loss: 0.0620 - val_acc: 0.9813\n",
            "Epoch 15/20\n",
            "60000/60000 [==============================] - 7s 117us/step - loss: 0.0230 - acc: 0.9924 - val_loss: 0.0652 - val_acc: 0.9809\n",
            "Epoch 16/20\n",
            "60000/60000 [==============================] - 7s 118us/step - loss: 0.0213 - acc: 0.9931 - val_loss: 0.0662 - val_acc: 0.9817\n",
            "Epoch 17/20\n",
            "60000/60000 [==============================] - 7s 113us/step - loss: 0.0196 - acc: 0.9938 - val_loss: 0.0694 - val_acc: 0.9812\n",
            "Epoch 18/20\n",
            "60000/60000 [==============================] - 7s 113us/step - loss: 0.0165 - acc: 0.9950 - val_loss: 0.0701 - val_acc: 0.9810\n",
            "Epoch 19/20\n",
            "60000/60000 [==============================] - 7s 113us/step - loss: 0.0157 - acc: 0.9950 - val_loss: 0.0748 - val_acc: 0.9785\n",
            "Epoch 20/20\n",
            "60000/60000 [==============================] - 7s 112us/step - loss: 0.0156 - acc: 0.9947 - val_loss: 0.0641 - val_acc: 0.9835\n",
            "Test loss: 0.06406606653385206\n",
            "Test accuracy: 0.9835\n"
          ],
          "name": "stdout"
        }
      ]
    },
    {
      "cell_type": "code",
      "metadata": {
        "id": "dmgaPkK4cyyf",
        "colab_type": "code",
        "colab": {}
      },
      "source": [
        "for layer in model.layers:\n",
        "  if 'Conv1' in layer.name:\n",
        "    filters1, biases1 = layer.get_weights()\n",
        "  if 'Conv2' in layer.name:\n",
        "    filters2, biases2 = layer.get_weights()\n",
        "filters1 = np.squeeze(filters1)\n",
        "filters2 = np.squeeze(filters2)"
      ],
      "execution_count": 0,
      "outputs": []
    },
    {
      "cell_type": "code",
      "metadata": {
        "id": "Ax5TRyPBczro",
        "colab_type": "code",
        "colab": {
          "base_uri": "https://localhost:8080/",
          "height": 315
        },
        "outputId": "7faf6085-7986-4b0b-a3c4-6e4793e382d7"
      },
      "source": [
        "fig, axes = plt.subplots(nrows=3, ncols=2)\n",
        "plt.xticks([])\n",
        "plt.yticks([])\n",
        "i=0\n",
        "\n",
        "for ax in axes.flat:\n",
        "    im = ax.imshow(filters1[:,:,i], cmap='gray')\n",
        "    i+=1\n",
        "\n",
        "fig.colorbar(im, ax=axes.ravel().tolist())\n",
        "plt.setp(plt.gcf().get_axes(), xticks=[], yticks=[]);\n",
        "\n",
        "fig.suptitle('Weights of first CNN layer')\n",
        "plt.savefig('mnist_comp_CNN_no_pool.pdf')\n",
        "\n",
        "plt.show()"
      ],
      "execution_count": 30,
      "outputs": [
        {
          "output_type": "stream",
          "text": [
            "/usr/local/lib/python3.6/dist-packages/matplotlib/colorbar.py:214: UserWarning: Use the colorbar set_ticks() method instead.\n",
            "  warnings.warn(\"Use the colorbar set_ticks() method instead.\")\n"
          ],
          "name": "stderr"
        },
        {
          "output_type": "display_data",
          "data": {
            "image/png": "[encoded data removed]",
            "text/plain": [
              "<Figure size 432x288 with 7 Axes>"
            ]
          },
          "metadata": {
            "tags": []
          }
        }
      ]
    },
    {
      "cell_type": "markdown",
      "metadata": {
        "id": "ht1XSqo_Fx-g",
        "colab_type": "text"
      },
      "source": [
        "## Mnist KCNN, LeNet 5"
      ]
    },
    {
      "cell_type": "code",
      "metadata": {
        "colab_type": "code",
        "id": "TkuGyRVER_iL",
        "outputId": "65ba9c1d-8406-45cd-b818-c89c1ba3866f",
        "colab": {
          "base_uri": "https://localhost:8080/",
          "height": 1000
        }
      },
      "source": [
        "from tensorflow.python.keras.datasets import mnist\n",
        "from tensorflow.python.keras.models import Sequential\n",
        "from tensorflow.python.keras.layers import Dense, Dropout, Flatten\n",
        "from tensorflow.python.keras.layers import Conv2D, AveragePooling2D\n",
        "from tensorflow.python.keras import backend as K\n",
        "from tensorflow.python.keras.optimizers import SGD\n",
        "import keras\n",
        "import tensorflow\n",
        "from tf_keras_kervolution_2d import KernelConv1D, KernelConv2D, PolynomialKernel, LinearKernel, L1Kernel, L2Kernel, GaussianKernel\n",
        "\n",
        "\n",
        "model = Sequential()\n",
        "\n",
        "model.add(KernelConv2D(input_shape=input_shape, filters=6, kernel_size=3,kernel_function=PolynomialKernel(p=3, c=1), name='KConv1'))\n",
        "# model.add(KernelConv2D(input_shape=input_shape, filters=6, kernel_size=3,kernel_function=GaussianKernel(gamma=0.5), name='KConv1'))\n",
        "model.add(AveragePooling2D())\n",
        "\n",
        "model.add(KernelConv2D(filters=16, kernel_size=3,kernel_function=PolynomialKernel(p=3, c=1), name='KConv2'))\n",
        "# model.add(KernelConv2D(filters=16, kernel_size=3,kernel_function=GaussianKernel(gamma=0.5), name='KConv2'))\n",
        "model.add(AveragePooling2D())\n",
        "\n",
        "model.add(Flatten())\n",
        "\n",
        "model.add(Dense(units=120, activation='relu'))\n",
        "\n",
        "model.add(Dense(units=84, activation='relu'))\n",
        "\n",
        "model.add(Dense(units=10, activation = 'softmax'))\n",
        "\n",
        "model.compile(loss='categorical_crossentropy',\n",
        "              optimizer=SGD(lr=0.003, momentum=0.9, nesterov=False),\n",
        "              metrics=['accuracy'])\n",
        "\n",
        "model.summary()\n",
        "\n",
        "model.fit(x_train, y_train,\n",
        "          batch_size=batch_size,\n",
        "          epochs=epochs,\n",
        "          verbose=1,\n",
        "          validation_data=(x_test, y_test))\n",
        "score = model.evaluate(x_test, y_test, verbose=0)\n",
        "print('Test loss:', score[0])\n",
        "print('Test accuracy:', score[1])"
      ],
      "execution_count": 16,
      "outputs": [
        {
          "output_type": "stream",
          "text": [
            "WARNING:tensorflow:From /usr/local/lib/python3.6/dist-packages/tensorflow/python/ops/init_ops.py:1251: calling VarianceScaling.__init__ (from tensorflow.python.ops.init_ops) with dtype is deprecated and will be removed in a future version.\n",
            "Instructions for updating:\n",
            "Call initializer instance with the dtype argument instead of passing it to the constructor\n",
            "WARNING:tensorflow:From /usr/local/lib/python3.6/dist-packages/tensorflow/python/autograph/impl/api.py:253: calling extract_image_patches (from tensorflow.python.ops.array_ops) with ksizes is deprecated and will be removed in a future version.\n",
            "Instructions for updating:\n",
            "ksizes is deprecated, use sizes instead\n",
            "Model: \"sequential\"\n",
            "_________________________________________________________________\n",
            "Layer (type)                 Output Shape              Param #   \n",
            "=================================================================\n",
            "KConv1 (KernelConv2D)        (None, 26, 26, 6)         60        \n",
            "_________________________________________________________________\n",
            "average_pooling2d (AveragePo (None, 13, 13, 6)         0         \n",
            "_________________________________________________________________\n",
            "KConv2 (KernelConv2D)        (None, 11, 11, 16)        880       \n",
            "_________________________________________________________________\n",
            "average_pooling2d_1 (Average (None, 5, 5, 16)          0         \n",
            "_________________________________________________________________\n",
            "flatten (Flatten)            (None, 400)               0         \n",
            "_________________________________________________________________\n",
            "dense (Dense)                (None, 120)               48120     \n",
            "_________________________________________________________________\n",
            "dense_1 (Dense)              (None, 84)                10164     \n",
            "_________________________________________________________________\n",
            "dense_2 (Dense)              (None, 10)                850       \n",
            "=================================================================\n",
            "Total params: 60,074\n",
            "Trainable params: 60,074\n",
            "Non-trainable params: 0\n",
            "_________________________________________________________________\n",
            "Train on 60000 samples, validate on 10000 samples\n",
            "Epoch 1/20\n",
            "60000/60000 [==============================] - 14s 235us/sample - loss: 0.2731 - acc: 0.9141 - val_loss: 0.1115 - val_acc: 0.9649\n",
            "Epoch 2/20\n",
            "60000/60000 [==============================] - 14s 232us/sample - loss: 0.0881 - acc: 0.9725 - val_loss: 0.0651 - val_acc: 0.9812\n",
            "Epoch 3/20\n",
            "60000/60000 [==============================] - 14s 233us/sample - loss: 0.0637 - acc: 0.9799 - val_loss: 0.0565 - val_acc: 0.9810\n",
            "Epoch 4/20\n",
            "60000/60000 [==============================] - 14s 231us/sample - loss: 0.0512 - acc: 0.9835 - val_loss: 0.0581 - val_acc: 0.9803\n",
            "Epoch 5/20\n",
            "60000/60000 [==============================] - 14s 229us/sample - loss: 0.0436 - acc: 0.9859 - val_loss: 0.0499 - val_acc: 0.9824\n",
            "Epoch 6/20\n",
            "60000/60000 [==============================] - 14s 235us/sample - loss: 0.0362 - acc: 0.9882 - val_loss: 0.0493 - val_acc: 0.9847\n",
            "Epoch 7/20\n",
            "60000/60000 [==============================] - 14s 230us/sample - loss: 0.0311 - acc: 0.9901 - val_loss: 0.0524 - val_acc: 0.9855\n",
            "Epoch 8/20\n",
            "60000/60000 [==============================] - 14s 230us/sample - loss: 0.0287 - acc: 0.9906 - val_loss: 0.0425 - val_acc: 0.9874\n",
            "Epoch 9/20\n",
            "60000/60000 [==============================] - 14s 232us/sample - loss: 0.0242 - acc: 0.9922 - val_loss: 0.0425 - val_acc: 0.9881\n",
            "Epoch 10/20\n",
            "60000/60000 [==============================] - 14s 232us/sample - loss: 0.0208 - acc: 0.9935 - val_loss: 0.0433 - val_acc: 0.9870\n",
            "Epoch 11/20\n",
            "60000/60000 [==============================] - 14s 231us/sample - loss: 0.0202 - acc: 0.9929 - val_loss: 0.0534 - val_acc: 0.9851\n",
            "Epoch 12/20\n",
            "60000/60000 [==============================] - 14s 232us/sample - loss: 0.0180 - acc: 0.9939 - val_loss: 0.0467 - val_acc: 0.9868\n",
            "Epoch 13/20\n",
            "60000/60000 [==============================] - 14s 232us/sample - loss: 0.0157 - acc: 0.9949 - val_loss: 0.0500 - val_acc: 0.9860\n",
            "Epoch 14/20\n",
            "60000/60000 [==============================] - 14s 229us/sample - loss: 0.0134 - acc: 0.9951 - val_loss: 0.0526 - val_acc: 0.9862\n",
            "Epoch 15/20\n",
            "60000/60000 [==============================] - 14s 232us/sample - loss: 0.0143 - acc: 0.9951 - val_loss: 0.0529 - val_acc: 0.9862\n",
            "Epoch 16/20\n",
            "60000/60000 [==============================] - 14s 231us/sample - loss: 0.0135 - acc: 0.9956 - val_loss: 0.0488 - val_acc: 0.9879\n",
            "Epoch 17/20\n",
            "60000/60000 [==============================] - 14s 241us/sample - loss: 0.0111 - acc: 0.9962 - val_loss: 0.0511 - val_acc: 0.9878\n",
            "Epoch 18/20\n",
            "60000/60000 [==============================] - 14s 231us/sample - loss: 0.0104 - acc: 0.9966 - val_loss: 0.0476 - val_acc: 0.9885\n",
            "Epoch 19/20\n",
            "60000/60000 [==============================] - 14s 230us/sample - loss: 0.0105 - acc: 0.9963 - val_loss: 0.0563 - val_acc: 0.9864\n",
            "Epoch 20/20\n",
            "60000/60000 [==============================] - 14s 228us/sample - loss: 0.0089 - acc: 0.9969 - val_loss: 0.0631 - val_acc: 0.9861\n",
            "Test loss: 0.0630938204563876\n",
            "Test accuracy: 0.9861\n"
          ],
          "name": "stdout"
        }
      ]
    },
    {
      "cell_type": "code",
      "metadata": {
        "id": "rXje61Ll80eE",
        "colab_type": "code",
        "colab": {}
      },
      "source": [
        "for layer in model.layers:\n",
        "  if 'KConv1' in layer.name:\n",
        "    filters1, biases1 = layer.get_weights()\n",
        "  if 'KConv2' in layer.name:\n",
        "    filters2, biases2 = layer.get_weights()\n",
        "filters1 = np.squeeze(filters1)\n",
        "filters2 = np.squeeze(filters2)"
      ],
      "execution_count": 0,
      "outputs": []
    },
    {
      "cell_type": "code",
      "metadata": {
        "id": "Awe_yzqfCmg1",
        "colab_type": "code",
        "outputId": "06e29250-32a3-4438-940b-8774a37db8ae",
        "colab": {
          "base_uri": "https://localhost:8080/",
          "height": 315
        }
      },
      "source": [
        "fig, axes = plt.subplots(nrows=3, ncols=2)\n",
        "plt.xticks([])\n",
        "plt.yticks([])\n",
        "i=0\n",
        "\n",
        "for ax in axes.flat:\n",
        "    im = ax.imshow(filters1[:,:,i], cmap='gray')\n",
        "    i+=1\n",
        "\n",
        "fig.colorbar(im, ax=axes.ravel().tolist())\n",
        "plt.setp(plt.gcf().get_axes(), xticks=[], yticks=[])\n",
        "fig.suptitle('Weights of first KCNN layer')\n",
        "plt.savefig('mnist_comp_KCNN_standard.pdf')\n",
        "plt.show()"
      ],
      "execution_count": 18,
      "outputs": [
        {
          "output_type": "stream",
          "text": [
            "/usr/local/lib/python3.6/dist-packages/matplotlib/colorbar.py:214: UserWarning: Use the colorbar set_ticks() method instead.\n",
            "  warnings.warn(\"Use the colorbar set_ticks() method instead.\")\n"
          ],
          "name": "stderr"
        },
        {
          "output_type": "display_data",
          "data": {
            "image/png": "[encoded data removed]",
            "text/plain": [
              "<Figure size 432x288 with 7 Axes>"
            ]
          },
          "metadata": {
            "tags": []
          }
        }
      ]
    },
    {
      "cell_type": "markdown",
      "metadata": {
        "id": "bFZpygkzb6fN",
        "colab_type": "text"
      },
      "source": [
        "## Mnist, KCNN, LeNet 5, w/o Pooling, stride 2"
      ]
    },
    {
      "cell_type": "code",
      "metadata": {
        "id": "JlSvz66pcOmu",
        "colab_type": "code",
        "colab": {
          "base_uri": "https://localhost:8080/",
          "height": 1000
        },
        "outputId": "ccde79d7-890c-44ae-b3bf-948f7210f436"
      },
      "source": [
        "from tensorflow.python.keras.datasets import mnist\n",
        "from tensorflow.python.keras.models import Sequential\n",
        "from tensorflow.python.keras.layers import Dense, Dropout, Flatten\n",
        "from tensorflow.python.keras.layers import Conv2D, AveragePooling2D\n",
        "from tensorflow.python.keras import backend as K\n",
        "from tensorflow.python.keras.optimizers import SGD\n",
        "import keras\n",
        "import tensorflow\n",
        "from tf_keras_kervolution_2d import KernelConv1D, KernelConv2D, PolynomialKernel, LinearKernel, L1Kernel, L2Kernel, GaussianKernel\n",
        "\n",
        "\n",
        "model = Sequential()\n",
        "\n",
        "model.add(KernelConv2D(input_shape=input_shape, filters=6,strides=2, kernel_size=3,kernel_function=PolynomialKernel(p=3, c=1), name='KConv1'))\n",
        "# model.add(KernelConv2D(input_shape=input_shape, filters=6, kernel_size=3,kernel_function=GaussianKernel(gamma=0.5), name='KConv1'))\n",
        "# model.add(AveragePooling2D())\n",
        "\n",
        "model.add(KernelConv2D(filters=16, strides=2, kernel_size=3,kernel_function=PolynomialKernel(p=3, c=1), name='KConv2'))\n",
        "# model.add(KernelConv2D(filters=16, kernel_size=3,kernel_function=GaussianKernel(gamma=0.5), name='KConv2'))\n",
        "# model.add(AveragePooling2D())\n",
        "\n",
        "model.add(Flatten())\n",
        "\n",
        "model.add(Dense(units=120, activation='relu'))\n",
        "\n",
        "model.add(Dense(units=84, activation='relu'))\n",
        "\n",
        "model.add(Dense(units=10, activation = 'softmax'))\n",
        "\n",
        "model.compile(loss='categorical_crossentropy',\n",
        "              optimizer=SGD(lr=0.003, momentum=0.9, nesterov=False),\n",
        "              metrics=['accuracy'])\n",
        "\n",
        "model.summary()\n",
        "\n",
        "model.fit(x_train, y_train,\n",
        "          batch_size=batch_size,\n",
        "          epochs=epochs,\n",
        "          verbose=1,\n",
        "          validation_data=(x_test, y_test))\n",
        "score = model.evaluate(x_test, y_test, verbose=0)\n",
        "print('Test loss:', score[0])\n",
        "print('Test accuracy:', score[1])"
      ],
      "execution_count": 22,
      "outputs": [
        {
          "output_type": "stream",
          "text": [
            "Model: \"sequential_2\"\n",
            "_________________________________________________________________\n",
            "Layer (type)                 Output Shape              Param #   \n",
            "=================================================================\n",
            "KConv1 (KernelConv2D)        (None, 13, 13, 6)         60        \n",
            "_________________________________________________________________\n",
            "KConv2 (KernelConv2D)        (None, 6, 6, 16)          880       \n",
            "_________________________________________________________________\n",
            "flatten_2 (Flatten)          (None, 576)               0         \n",
            "_________________________________________________________________\n",
            "dense_6 (Dense)              (None, 120)               69240     \n",
            "_________________________________________________________________\n",
            "dense_7 (Dense)              (None, 84)                10164     \n",
            "_________________________________________________________________\n",
            "dense_8 (Dense)              (None, 10)                850       \n",
            "=================================================================\n",
            "Total params: 81,194\n",
            "Trainable params: 81,194\n",
            "Non-trainable params: 0\n",
            "_________________________________________________________________\n",
            "Train on 60000 samples, validate on 10000 samples\n",
            "Epoch 1/20\n",
            "60000/60000 [==============================] - 10s 169us/sample - loss: 0.3073 - acc: 0.9088 - val_loss: 0.1281 - val_acc: 0.9593\n",
            "Epoch 2/20\n",
            "60000/60000 [==============================] - 10s 166us/sample - loss: 0.1051 - acc: 0.9674 - val_loss: 0.0833 - val_acc: 0.9740\n",
            "Epoch 3/20\n",
            "60000/60000 [==============================] - 10s 159us/sample - loss: 0.0737 - acc: 0.9768 - val_loss: 0.0656 - val_acc: 0.9801\n",
            "Epoch 4/20\n",
            "60000/60000 [==============================] - 10s 162us/sample - loss: 0.0569 - acc: 0.9824 - val_loss: 0.0732 - val_acc: 0.9784\n",
            "Epoch 5/20\n",
            "60000/60000 [==============================] - 10s 160us/sample - loss: 0.0466 - acc: 0.9858 - val_loss: 0.0631 - val_acc: 0.9808\n",
            "Epoch 6/20\n",
            "60000/60000 [==============================] - 10s 160us/sample - loss: 0.0379 - acc: 0.9883 - val_loss: 0.0589 - val_acc: 0.9825\n",
            "Epoch 7/20\n",
            "60000/60000 [==============================] - 10s 159us/sample - loss: 0.0316 - acc: 0.9901 - val_loss: 0.0603 - val_acc: 0.9821\n",
            "Epoch 8/20\n",
            "60000/60000 [==============================] - 10s 159us/sample - loss: 0.0268 - acc: 0.9914 - val_loss: 0.0638 - val_acc: 0.9802\n",
            "Epoch 9/20\n",
            "60000/60000 [==============================] - 10s 159us/sample - loss: 0.0235 - acc: 0.9916 - val_loss: 0.0600 - val_acc: 0.9826\n",
            "Epoch 10/20\n",
            "60000/60000 [==============================] - 10s 160us/sample - loss: 0.0200 - acc: 0.9933 - val_loss: 0.0646 - val_acc: 0.9812\n",
            "Epoch 11/20\n",
            "60000/60000 [==============================] - 10s 159us/sample - loss: 0.0182 - acc: 0.9940 - val_loss: 0.0553 - val_acc: 0.9846\n",
            "Epoch 12/20\n",
            "60000/60000 [==============================] - 10s 160us/sample - loss: 0.0148 - acc: 0.9949 - val_loss: 0.0698 - val_acc: 0.9835\n",
            "Epoch 13/20\n",
            "60000/60000 [==============================] - 9s 157us/sample - loss: 0.0133 - acc: 0.9956 - val_loss: 0.0966 - val_acc: 0.9776\n",
            "Epoch 14/20\n",
            "60000/60000 [==============================] - 10s 158us/sample - loss: 0.0126 - acc: 0.9958 - val_loss: 0.0905 - val_acc: 0.9787\n",
            "Epoch 15/20\n",
            "60000/60000 [==============================] - 9s 158us/sample - loss: 0.0091 - acc: 0.9971 - val_loss: 0.0847 - val_acc: 0.9813\n",
            "Epoch 16/20\n",
            "60000/60000 [==============================] - 10s 160us/sample - loss: 0.0120 - acc: 0.9961 - val_loss: 0.0777 - val_acc: 0.9815\n",
            "Epoch 17/20\n",
            "60000/60000 [==============================] - 10s 161us/sample - loss: 0.0082 - acc: 0.9974 - val_loss: 0.0707 - val_acc: 0.9841\n",
            "Epoch 18/20\n",
            "60000/60000 [==============================] - 10s 160us/sample - loss: 0.0110 - acc: 0.9963 - val_loss: 0.0788 - val_acc: 0.9844\n",
            "Epoch 19/20\n",
            "60000/60000 [==============================] - 9s 158us/sample - loss: 0.0069 - acc: 0.9978 - val_loss: 0.0793 - val_acc: 0.9837\n",
            "Epoch 20/20\n",
            "60000/60000 [==============================] - 10s 159us/sample - loss: 0.0054 - acc: 0.9983 - val_loss: 0.0792 - val_acc: 0.9848\n",
            "Test loss: 0.07920337408084861\n",
            "Test accuracy: 0.9848\n"
          ],
          "name": "stdout"
        }
      ]
    },
    {
      "cell_type": "code",
      "metadata": {
        "id": "XXIIF14ycZS1",
        "colab_type": "code",
        "colab": {}
      },
      "source": [
        "for layer in model.layers:\n",
        "  if 'KConv1' in layer.name:\n",
        "    filters1, biases1 = layer.get_weights()\n",
        "  if 'KConv2' in layer.name:\n",
        "    filters2, biases2 = layer.get_weights()\n",
        "filters1 = np.squeeze(filters1)\n",
        "filters2 = np.squeeze(filters2)"
      ],
      "execution_count": 0,
      "outputs": []
    },
    {
      "cell_type": "code",
      "metadata": {
        "id": "4RphXllqcaHS",
        "colab_type": "code",
        "colab": {
          "base_uri": "https://localhost:8080/",
          "height": 315
        },
        "outputId": "3649e914-64e7-40aa-e31a-f124a8e43b5e"
      },
      "source": [
        "fig, axes = plt.subplots(nrows=3, ncols=2)\n",
        "plt.xticks([])\n",
        "plt.yticks([])\n",
        "i=0\n",
        "\n",
        "for ax in axes.flat:\n",
        "    im = ax.imshow(filters1[:,:,i], cmap='gray')\n",
        "    i+=1\n",
        "\n",
        "fig.colorbar(im, ax=axes.ravel().tolist())\n",
        "plt.setp(plt.gcf().get_axes(), xticks=[], yticks=[])\n",
        "fig.suptitle('Weights of first KCNN layer')\n",
        "plt.savefig('mnist_comp_KCNN_no_pool.pdf')\n",
        "plt.show()"
      ],
      "execution_count": 24,
      "outputs": [
        {
          "output_type": "stream",
          "text": [
            "/usr/local/lib/python3.6/dist-packages/matplotlib/colorbar.py:214: UserWarning: Use the colorbar set_ticks() method instead.\n",
            "  warnings.warn(\"Use the colorbar set_ticks() method instead.\")\n"
          ],
          "name": "stderr"
        },
        {
          "output_type": "display_data",
          "data": {
            "image/png": "[encoded data removed]",
            "text/plain": [
              "<Figure size 432x288 with 7 Axes>"
            ]
          },
          "metadata": {
            "tags": []
          }
        }
      ]
    }
  ]
}